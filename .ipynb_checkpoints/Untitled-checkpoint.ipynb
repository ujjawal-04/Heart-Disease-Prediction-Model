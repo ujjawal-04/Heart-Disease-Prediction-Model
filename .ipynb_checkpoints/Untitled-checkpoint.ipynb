{
 "cells": [
  {
   "cell_type": "code",
   "execution_count": null,
   "id": "ad3859fd-f8a6-4bfc-9356-15cc8a44a4f8",
   "metadata": {},
   "outputs": [],
   "source": [
    "#importing libraries\n",
    "import numpy as np\n",
    "import pandas as pd\n",
    "import matplotlib.pyplot as plt\n",
    "import seaborn as sns\n",
    "import warnings\n",
    "from sklearn.model_selection import train_test_split\n",
    "from sklearn.preprocessing import StandardScaler\n",
    "from sklearn.metrics import classification_report, accuracy_score, confusion_matrix\n",
    "from sklearn.ensemble import RandomForestClassifier\n",
    "from sklearn.linear_model import LogisticRegression\n",
    "from sklearn.svm import SVC\n",
    "from sklearn.neighbors import KNeighborsClassifier\n",
    "from sklearn.tree import DecisionTreeClassifier\n",
    "from tensorflow import keras\n",
    "from tensorflow.keras import layers\n"
   ]
  },
  {
   "cell_type": "code",
   "execution_count": null,
   "id": "d48a6e01-3caa-4953-ba06-b3a75e152200",
   "metadata": {},
   "outputs": [],
   "source": [
    "warnings.filterwarnings('ignore')"
   ]
  },
  {
   "cell_type": "code",
   "execution_count": null,
   "id": "434b0c6f-e10f-4356-b4e1-8cebe1006673",
   "metadata": {},
   "outputs": [],
   "source": [
    "# Load dataset\n",
    "df = pd.read_csv(\"heart.csv\")"
   ]
  },
  {
   "cell_type": "code",
   "execution_count": null,
   "id": "66f67813-4cee-4c0d-a65f-a958054ee936",
   "metadata": {},
   "outputs": [],
   "source": [
    "# Check for missing values\n",
    "print(df.isnull().sum())"
   ]
  },
  {
   "cell_type": "code",
   "execution_count": null,
   "id": "8630aa31-7c2a-4200-a659-9f36a580cc8b",
   "metadata": {},
   "outputs": [],
   "source": [
    "# Convert categorical features into numerical ones (if necessary)\n",
    "df['sex'] = df['sex'].map({'Female': 0, 'Male': 1})\n",
    "df['target'] = df['target'].map({'No': 0, 'Yes': 1})"
   ]
  },
  {
   "cell_type": "code",
   "execution_count": null,
   "id": "5b34a1d2-bdca-4827-915c-8084ef72db97",
   "metadata": {},
   "outputs": [],
   "source": [
    "# Features and target\n",
    "X = df.drop('target', axis=1)\n",
    "y = df['target']"
   ]
  },
  {
   "cell_type": "code",
   "execution_count": null,
   "id": "eb8dbfb2-5770-407f-bff8-c890fbc7c8c0",
   "metadata": {},
   "outputs": [],
   "source": [
    "# Train-test split (80-20 split)\n",
    "X_train, X_test, y_train, y_test = train_test_split(X, y, test_size=0.2, random_state=42)"
   ]
  },
  {
   "cell_type": "code",
   "execution_count": null,
   "id": "55beed8a-4db9-4cb1-bee7-0b90cd093f06",
   "metadata": {},
   "outputs": [],
   "source": [
    "# Feature scaling\n",
    "scaler = StandardScaler()\n",
    "X_train_scaled = scaler.fit_transform(X_train)\n",
    "X_test_scaled = scaler.transform(X_test)"
   ]
  },
  {
   "cell_type": "code",
   "execution_count": null,
   "id": "6f0153b7-5843-4664-ae45-cf69d8169983",
   "metadata": {},
   "outputs": [],
   "source": [
    "# Functions for training and evaluation of each model\n",
    "def train_and_evaluate(model, X_train, y_train, X_test, y_test):\n",
    "    model.fit(X_train, y_train)\n",
    "    y_pred = model.predict(X_test)\n",
    "    accuracy = accuracy_score(y_test, y_pred)\n",
    "    report = classification_report(y_test, y_pred, output_dict=True)\n",
    "    return accuracy, report"
   ]
  },
  {
   "cell_type": "code",
   "execution_count": null,
   "id": "dda75531-db83-4ca9-a376-fcf145f50318",
   "metadata": {},
   "outputs": [],
   "source": [
    "# List to store results\n",
    "models = ['Logistic Regression', 'Random Forest', 'SVC', 'KNN', 'Decision Tree', 'Neural Network']\n",
    "accuracies = []"
   ]
  },
  {
   "cell_type": "code",
   "execution_count": null,
   "id": "6e92c70b-1619-41aa-a68d-0d5c1eeef15c",
   "metadata": {},
   "outputs": [],
   "source": [
    "# a. Logistic Regression\n",
    "log_reg = LogisticRegression()\n",
    "acc, report = train_and_evaluate(log_reg, X_train_scaled, y_train, X_test_scaled, y_test)\n",
    "accuracies.append(acc)\n",
    "\n",
    "# b. Random Forest Classifier\n",
    "rf = RandomForestClassifier()\n",
    "acc, report = train_and_evaluate(rf, X_train_scaled, y_train, X_test_scaled, y_test)\n",
    "accuracies.append(acc)\n",
    "\n",
    "# c. Support Vector Classifier (SVC)\n",
    "svc = SVC()\n",
    "acc, report = train_and_evaluate(svc, X_train_scaled, y_train, X_test_scaled, y_test)\n",
    "accuracies.append(acc)\n",
    "\n",
    "# d. K-Nearest Neighbors (KNN)\n",
    "knn = KNeighborsClassifier()\n",
    "acc, report = train_and_evaluate(knn, X_train_scaled, y_train, X_test_scaled, y_test)\n",
    "accuracies.append(acc)\n",
    "\n",
    "# e. Decision Tree Classifier\n",
    "dt = DecisionTreeClassifier()\n",
    "acc, report = train_and_evaluate(dt, X_train_scaled, y_train, X_test_scaled, y_test)\n",
    "accuracies.append(acc)"
   ]
  },
  {
   "cell_type": "code",
   "execution_count": null,
   "id": "41490415-00b8-4cd7-a862-3b2240d1fd76",
   "metadata": {},
   "outputs": [],
   "source": [
    "# f. Neural Network\n",
    "nn_model = keras.Sequential([\n",
    "    layers.Dense(32, activation='relu', input_shape=(X_train_scaled.shape[1],)),\n",
    "    layers.Dense(16, activation='relu'),\n",
    "    layers.Dense(1, activation='sigmoid')\n",
    "])\n",
    "\n",
    "nn_model.compile(optimizer='adam', loss='binary_crossentropy', metrics=['accuracy'])\n",
    "nn_model.fit(X_train_scaled, y_train, epochs=100, batch_size=10, verbose=0)"
   ]
  },
  {
   "cell_type": "code",
   "execution_count": null,
   "id": "b7a38a6a-6840-4ce0-8d2f-7539e3d0b30b",
   "metadata": {},
   "outputs": [],
   "source": [
    "# Evaluate Neural Network\n",
    "nn_loss, nn_accuracy = nn_model.evaluate(X_test_scaled, y_test, verbose=0)\n",
    "accuracies.append(nn_accuracy)\n",
    "\n",
    "# Create DataFrame for model comparison\n",
    "comparison_df = pd.DataFrame({'Model': models, 'Accuracy': accuracies})\n",
    "\n",
    "# Print results\n",
    "print(comparison_df)"
   ]
  },
  {
   "cell_type": "code",
   "execution_count": null,
   "id": "48be994b-a4f3-4b06-8735-40eae009945c",
   "metadata": {},
   "outputs": [],
   "source": [
    "# Plot the comparison\n",
    "plt.figure(figsize=(8, 5))\n",
    "sns.barplot(data=comparison_df, x='Model', y='Accuracy', palette='viridis')\n",
    "plt.title('Model Comparison')\n",
    "plt.ylim(0, 1)  # Set limit for y-axis\n",
    "plt.show()"
   ]
  },
  {
   "cell_type": "code",
   "execution_count": null,
   "id": "35968abd-c58f-49cd-85cc-509f8563900e",
   "metadata": {},
   "outputs": [],
   "source": [
    "# Plot confusion matrix for the best performing model\n",
    "best_model_idx = np.argmax(accuracies[:-1])  # Exclude the NN from this logic since we're plotting it separately\n",
    "best_model_name = models[best_model_idx]\n",
    "if best_model_name == 'Random Forest':\n",
    "    best_model = rf\n",
    "else:\n",
    "    best_model = [log_reg, svc, knn, dt][best_model_idx-1]  # Adjust for offset due to NN in the list"
   ]
  },
  {
   "cell_type": "code",
   "execution_count": null,
   "id": "9e66ae17-9ea9-4ca8-bbd2-33a31fc0b848",
   "metadata": {},
   "outputs": [],
   "source": [
    "# Get confusion matrix\n",
    "plt.figure(figsize=(6,6))\n",
    "y_pred_best_model = best_model.predict(X_test_scaled)\n",
    "cm = confusion_matrix(y_test, y_pred_best_model)\n",
    "sns.heatmap(cm, annot=True, fmt='d', cmap='Blues', cbar=False, xticklabels=['No Disease', 'Disease'], yticklabels=['No Disease', 'Disease'])\n",
    "plt.title(f\"Confusion Matrix - {best_model_name}\")\n",
    "plt.ylabel(\"True Label\")\n",
    "plt.xlabel(\"Predicted Label\")\n",
    "plt.show()  "
   ]
  }
 ],
 "metadata": {
  "kernelspec": {
   "display_name": "Python 3 (ipykernel)",
   "language": "python",
   "name": "python3"
  },
  "language_info": {
   "codemirror_mode": {
    "name": "ipython",
    "version": 3
   },
   "file_extension": ".py",
   "mimetype": "text/x-python",
   "name": "python",
   "nbconvert_exporter": "python",
   "pygments_lexer": "ipython3",
   "version": "3.12.4"
  }
 },
 "nbformat": 4,
 "nbformat_minor": 5
}
